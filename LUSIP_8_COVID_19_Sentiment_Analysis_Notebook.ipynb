{
  "nbformat": 4,
  "nbformat_minor": 0,
  "metadata": {
    "colab": {
      "name": "LUSIP-8 - COVID-19 Sentiment Analysis Notebook",
      "provenance": [],
      "collapsed_sections": []
    },
    "kernelspec": {
      "name": "python3",
      "display_name": "Python 3"
    }
  },
  "cells": [
    {
      "cell_type": "markdown",
      "metadata": {
        "id": "SNXzR0h79jOe",
        "colab_type": "text"
      },
      "source": [
        "# **Project Description**\n",
        "\n",
        "Complete Project DEscription in 2 - 3  paragraphs\n",
        "\n",
        "team members\n"
      ]
    },
    {
      "cell_type": "markdown",
      "metadata": {
        "id": "JTgnsiww9fpj",
        "colab_type": "text"
      },
      "source": [
        "# **Data Collection**\n",
        "\n",
        "## Discription of code elements like apis. etc\n",
        "\n",
        "Comment cells and functions\n"
      ]
    },
    {
      "cell_type": "code",
      "metadata": {
        "id": "PlVM8SyB883K",
        "colab_type": "code",
        "colab": {}
      },
      "source": [
        "# Installing required libraries\n",
        "\n",
        "!pip install GetOldTweets3"
      ],
      "execution_count": 0,
      "outputs": []
    },
    {
      "cell_type": "code",
      "metadata": {
        "id": "gIOM17x--JRr",
        "colab_type": "code",
        "colab": {}
      },
      "source": [
        "# Imports\n",
        "\n",
        "import time # To use sleep function\n",
        "import GetOldTweets3 as got # API library to get tweets data\n",
        "import pandas as pd # To create dataframes and save CSVs"
      ],
      "execution_count": 0,
      "outputs": []
    },
    {
      "cell_type": "code",
      "metadata": {
        "id": "iI-xija1-JO5",
        "colab_type": "code",
        "colab": {}
      },
      "source": [
        "# Lists of queries to be searched, States and their approximate radius and Date ranges to collect tweets from.\n",
        "\n",
        "# List of various queries in text\n",
        "queries_list = ['corona', 'COVID', 'COVID-19',]\n",
        "\n",
        "# List of all States in India with their approx. radius.\n",
        "states_list = [\n",
        "  ['Andhra Pradesh',140], ['Arunachal Pradesh',101], ['Assam',98], ['Bihar',111], ['Chhattisgarh',129],\n",
        "  ['Goa',21], ['Gujarat',155], ['Haryana',74], ['Himachal Pradesh',83], ['Jammu & Kashmir',165],\n",
        "  ['Jharkhand',99], ['Karnataka',154], ['Kerala',69], ['Madhya Pradesh',195], ['Maharashtra',195],\n",
        "  ['Manipur',52], ['Meghalaya',53], ['Mizoram',51], ['Nagaland',43], ['Odisha',138],\n",
        "  ['Punjab',79], ['Rajasthan',205], ['Sikkim',30], ['Tamil Nadu',127], ['Telangana',117],\n",
        "  ['Tripura',36], ['Uttarakhand',81],  ['Uttar Pradesh',173], ['West Bengal',104]\n",
        "]\n",
        "\n",
        "# List of Date ranges to scrap data within\n",
        "dates_list = [\n",
        "  (\"2019-11-01\", \"2019-11-30\"), # Nov, 2019\n",
        "  (\"2019-12-01\", \"2019-12-31\"), # Dec, 2019\n",
        "  (\"2020-01-01\", \"2020-01-31\"), # Jan, 2020\n",
        "  (\"2020-02-01\", \"2020-02-29\"), # Feb, 2020\n",
        "  (\"2020-03-01\", \"2020-03-31\"), # Mar, 2020\n",
        "  (\"2020-04-01\", \"2020-04-30\"), # Apr, 2020\n",
        "  (\"2020-05-01\", \"2020-05-30\"), # May, 2020\n",
        "]"
      ],
      "execution_count": 0,
      "outputs": []
    },
    {
      "cell_type": "code",
      "metadata": {
        "id": "d45WstzW-JMX",
        "colab_type": "code",
        "colab": {
          "base_uri": "https://localhost:8080/",
          "height": 72
        },
        "outputId": "bb000d77-e1c5-4a8e-80ce-9463b6ca721e"
      },
      "source": [
        "# Using GetOldTweets3 to collect all tweets data\n",
        "# Queries created using above mentioned queries_list, states_list, dates_list\n",
        "\n",
        "for state, within in states_list: # Loop over states\n",
        "  for since_date, until_date in dates_list: # Loop over Date Ranges\n",
        "    text_tweets = [] # Initialize empty list for each month\n",
        "\n",
        "    i = 0\n",
        "    while i < len(queries_list): # Loop over Query text\n",
        "      query_text = queries_list[i]\n",
        "      \n",
        "      # Creating Query Object\n",
        "      tweetCriteria = got.manager.TweetCriteria().setQuerySearch(query_text).setMaxTweets(1000).setNear(state).setSince(since_date).setUntil(until_date).setLang(\"en\").setWithin(f\"{within}mi\")\n",
        "      \n",
        "      # Getting Tweets from API\n",
        "      try:\n",
        "        tweets = got.manager.TweetManager.getTweets(tweetCriteria)\n",
        "      except: # In case of API exceptions\n",
        "        print(\"Error at\", i)\n",
        "        time.sleep(10) # To account for API call limits\n",
        "        continue\n",
        "\n",
        "      text_tweets.extend( [tweet.text for tweet in tweets] )\n",
        "      i += 1\n",
        "      \n",
        "    # Creating a DataFrame Object from Collected Tweets\n",
        "    df = pd.DataFrame({\"Tweets\": text_tweets}, columns=['Tweets',]) \n",
        "    df = df.drop_duplicates().reset_index(drop=True) # Removing Duplictae Data points if any\n",
        "\n",
        "    df.to_csv(f\"{state[:-7]}_{since_date[5:7]}_tweets.csv\", index=False) # Saving data as a CSV\n",
        "\n",
        "  print(state, end=\", \") # Print State that is successfully completed\n",
        "print(\"\\nDone\") # Success"
      ],
      "execution_count": 5,
      "outputs": [
        {
          "output_type": "stream",
          "text": [
            "Andhra Pradesh, Arunachal Pradesh, Assam, Bihar, Chhattisgarh, Goa, Gujarat, Haryana, Himachal Pradesh, Jammu & Kashmir, Jharkhand, Karnataka, Kerala, Madhya Pradesh, Maharashtra, Manipur, Meghalaya, Mizoram, Nagaland, Odisha, Punjab, Rajasthan, Sikkim, Tamil Nadu, Telangana, Tripura, Uttarakhand, Uttar Pradesh, West Bengal, \n",
            "Done\n"
          ],
          "name": "stdout"
        }
      ]
    },
    {
      "cell_type": "markdown",
      "metadata": {
        "id": "UEHGFJZjASR0",
        "colab_type": "text"
      },
      "source": [
        "# **Finding Polarities**\n",
        "\n",
        "explain process\n",
        "\n",
        "\n",
        "polarity use etc"
      ]
    },
    {
      "cell_type": "code",
      "metadata": {
        "id": "j9Yc5s9-A0pX",
        "colab_type": "code",
        "colab": {}
      },
      "source": [
        "!pip install textblob"
      ],
      "execution_count": 0,
      "outputs": []
    },
    {
      "cell_type": "code",
      "metadata": {
        "id": "VFFKJU1kA3B-",
        "colab_type": "code",
        "colab": {}
      },
      "source": [
        "from textblob import TextBlob\n",
        "import pandas as pd\n",
        "import re"
      ],
      "execution_count": 0,
      "outputs": []
    },
    {
      "cell_type": "code",
      "metadata": {
        "id": "wUJ6yS4S-JJo",
        "colab_type": "code",
        "colab": {}
      },
      "source": [
        "states_list = [\n",
        "  'Andhra Pradesh', 'Arunachal Pradesh', 'Assam', 'Bihar', 'Chhattisgarh',\n",
        "  'Goa', 'Gujarat', 'Haryana', 'Himachal Pradesh', 'Jammu & Kashmir',\n",
        "  'Jharkhand', 'Karnataka', 'Kerala', 'Madhya Pradesh', 'Maharashtra',\n",
        "  'Manipur', 'Meghalaya', 'Mizoram', 'Nagaland', 'Odisha',\n",
        "  'Punjab', 'Rajasthan', 'Sikkim', 'Tamil Nadu', 'Telangana',\n",
        "  'Tripura', 'Uttarakhand', 'Uttar Pradesh', 'West Bengal',\n",
        "]\n",
        "\n",
        "months_list = ['11', '12', '01', '02', '03', '04', '05']"
      ],
      "execution_count": 0,
      "outputs": []
    },
    {
      "cell_type": "code",
      "metadata": {
        "id": "8sZAbOd3-JHV",
        "colab_type": "code",
        "colab": {}
      },
      "source": [
        "def clean_data(string):\n",
        "  return ' '.join(re.sub(\"(@[A-Za-z0-9]+)|([^0-9A-Za-z \\t])|(\\w+:\\/\\/\\S+)\", \" \", string).split())"
      ],
      "execution_count": 0,
      "outputs": []
    },
    {
      "cell_type": "code",
      "metadata": {
        "id": "w_VCyb7j-JE2",
        "colab_type": "code",
        "colab": {}
      },
      "source": [
        "for state in states_list:\n",
        "  for month in months_list:\n",
        "    file_name = f\"data/{state}_{month}_tweets.csv\"\n",
        "\n",
        "    try:\n",
        "      tweets = pd.read_csv(file_name)\n",
        "    except:\n",
        "      print(state, month)\n",
        "      continue\n",
        "\n",
        "    tweets['Tweets'] = tweets['Tweets'].apply(clean_data)\n",
        "    \n",
        "    lst = []\n",
        "    \n",
        "    for index in tweets.index:\n",
        "      polarity = TextBlob(tweets['Tweets'][index]).sentiment.polarity\n",
        "      lst.append(polarity)\n",
        "    \n",
        "    tweets['Polarity']=lst\n",
        "\n",
        "    lst=[]\n",
        "    for index in tweets.index:\n",
        "      if tweets['Polarity'][index]>0:\n",
        "        lst.append(\"Positive\")\n",
        "      elif tweets[\"Polarity\"][index]<0:\n",
        "        lst.append(\"Negative\")\n",
        "      else:\n",
        "        lst.append(\"Neutral\")\n",
        "\n",
        "    tweets['Sentiments']=lst\n",
        "\n",
        "    tweets.to_csv(\"output/\" + file_name[5:-10] + \"polarity.csv\", index=False)"
      ],
      "execution_count": 0,
      "outputs": []
    },
    {
      "cell_type": "markdown",
      "metadata": {
        "id": "dL0diEByBnNB",
        "colab_type": "text"
      },
      "source": [
        "## **Combining Data**\n",
        "\n",
        "creating statewise lists\n",
        "\n",
        "with polarity\n",
        "\n",
        "creating overall combinedd dataset"
      ]
    },
    {
      "cell_type": "code",
      "metadata": {
        "id": "4W3JGi-fBhs_",
        "colab_type": "code",
        "colab": {}
      },
      "source": [
        "import pandas as pd"
      ],
      "execution_count": 0,
      "outputs": []
    },
    {
      "cell_type": "code",
      "metadata": {
        "id": "xBy33bq5Bhpy",
        "colab_type": "code",
        "colab": {}
      },
      "source": [
        "states_list = [\n",
        "  'Andhra Pradesh', 'Arunachal Pradesh', 'Assam', 'Bihar', 'Chhattisgarh',\n",
        "  'Goa', 'Gujarat', 'Haryana', 'Himachal Pradesh', 'Jammu & Kashmir',\n",
        "  'Jharkhand', 'Karnataka', 'Kerala', 'Madhya Pradesh', 'Maharashtra',\n",
        "  'Manipur', 'Meghalaya', 'Mizoram', 'Nagaland', 'Odisha',\n",
        "  'Punjab', 'Rajasthan', 'Sikkim', 'Tamil Nadu', 'Telangana',\n",
        "  'Tripura', 'Uttarakhand', 'Uttar Pradesh', 'West Bengal',\n",
        "]\n",
        "\n",
        "months_list = ['12', '01', '02', '03', '04', '05']"
      ],
      "execution_count": 0,
      "outputs": []
    },
    {
      "cell_type": "markdown",
      "metadata": {
        "id": "8wcFHeZLB-S1",
        "colab_type": "text"
      },
      "source": [
        "### ***Combining Data: Statewise***\n",
        "\n",
        "\n",
        "explain"
      ]
    },
    {
      "cell_type": "code",
      "metadata": {
        "id": "NysGtr6kBhnU",
        "colab_type": "code",
        "colab": {}
      },
      "source": [
        "for state in states_list:\n",
        "  big_df = pd.read_csv(f\"data/{state}_11_polarity.csv\")\n",
        "  big_df['Month'] = ['11',]*big_df.shape[0]\n",
        "\n",
        "  for month in months_list:\n",
        "    file_name = f\"data/{state}_{month}_polarity.csv\"\n",
        "\n",
        "    df = pd.read_csv(file_name)\n",
        "    df['Month'] = [month]*df.shape[0]\n",
        "\n",
        "    big_df = pd.concat([big_df, df], ignore_index=True)\n",
        "  \n",
        "  big_df.to_csv(f\"output/{state}_combined.csv\", index=False)"
      ],
      "execution_count": 0,
      "outputs": []
    },
    {
      "cell_type": "markdown",
      "metadata": {
        "id": "WmYFPemtCGYG",
        "colab_type": "text"
      },
      "source": [
        "### ***Combining Data: Complete***\n",
        "\n",
        "\n",
        "explain"
      ]
    },
    {
      "cell_type": "code",
      "metadata": {
        "id": "n4LV7O2ABhke",
        "colab_type": "code",
        "colab": {}
      },
      "source": [
        "big_df = pd.read_csv(f\"data/Andhra Pradesh_combined.csv\")\n",
        "big_df['State'] = ['Andhra Pradesh',]*big_df.shape[0]\n",
        "\n",
        "for state in states_list:\n",
        "  file_name = f\"data/{state}_combined.csv\"\n",
        "\n",
        "  df = pd.read_csv(file_name)\n",
        "  df['State'] = [state]*df.shape[0]\n",
        "\n",
        "  big_df = pd.concat([big_df, df], ignore_index=True)\n",
        "\n",
        "\n",
        "big_df.to_csv(f\"output/all_states_combined.csv\", index=False)"
      ],
      "execution_count": 0,
      "outputs": []
    },
    {
      "cell_type": "markdown",
      "metadata": {
        "id": "kIME6CHCEM_e",
        "colab_type": "text"
      },
      "source": [
        "# **Analysis**\n",
        "\n",
        "explain everytinh in 3-5 paras\n",
        "\n",
        "explain use of sentiment analysis\n",
        "\n",
        "how we approached and all\n",
        "\n",
        "index of types of analysis done\n",
        "\n"
      ]
    },
    {
      "cell_type": "code",
      "metadata": {
        "id": "QAXqX_a1BhiJ",
        "colab_type": "code",
        "colab": {}
      },
      "source": [
        ""
      ],
      "execution_count": 0,
      "outputs": []
    },
    {
      "cell_type": "code",
      "metadata": {
        "id": "Sl5V628qDdM0",
        "colab_type": "code",
        "colab": {}
      },
      "source": [
        ""
      ],
      "execution_count": 0,
      "outputs": []
    },
    {
      "cell_type": "code",
      "metadata": {
        "id": "z6GfPk7oDdLD",
        "colab_type": "code",
        "colab": {}
      },
      "source": [
        ""
      ],
      "execution_count": 0,
      "outputs": []
    },
    {
      "cell_type": "code",
      "metadata": {
        "id": "VJvQanAjDdH3",
        "colab_type": "code",
        "colab": {}
      },
      "source": [
        ""
      ],
      "execution_count": 0,
      "outputs": []
    },
    {
      "cell_type": "code",
      "metadata": {
        "id": "Yblk01enDdFd",
        "colab_type": "code",
        "colab": {}
      },
      "source": [
        ""
      ],
      "execution_count": 0,
      "outputs": []
    },
    {
      "cell_type": "markdown",
      "metadata": {
        "id": "3-ItSRyzEp36",
        "colab_type": "text"
      },
      "source": [
        "# **Results**\n",
        "\n",
        "## **Conclusiosn**\n",
        "\n",
        "understrandings from analyss\n",
        "\n",
        "how can this affect the use cases selected above"
      ]
    },
    {
      "cell_type": "markdown",
      "metadata": {
        "id": "1aBuoTTSE5yL",
        "colab_type": "text"
      },
      "source": [
        "# **Thanks yous and Citations if any**\n",
        "\n"
      ]
    }
  ]
}