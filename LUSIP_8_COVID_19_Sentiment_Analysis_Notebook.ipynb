{
  "nbformat": 4,
  "nbformat_minor": 0,
  "metadata": {
    "colab": {
      "name": "LUSIP-8 - COVID-19 Sentiment Analysis Notebook",
      "provenance": [],
      "collapsed_sections": []
    },
    "kernelspec": {
      "name": "python3",
      "display_name": "Python 3"
    }
  },
  "cells": [
    {
      "cell_type": "markdown",
      "metadata": {
        "id": "SNXzR0h79jOe",
        "colab_type": "text"
      },
      "source": [
        "# **LUSIP - 8**\n",
        "# ***COVID-19 Sentiment Analysis***\n",
        "![Emotions Meter Picture](https://github.com/tanmayvijay/LUSIP-Sentiment-Analysis/blob/master/res/images/Sentiment%20Analysis.jpeg)\n",
        "\n",
        "\n",
        "This notebook contains our code to perform Sentiment Analysis on COVID-19 Twitter Data.<br>\n",
        "\n",
        "***Sentiment analysis ** is the interpretation and classification of emotions (positive, negative and neutral) within text data using text analysis techniques.*\n",
        "\n",
        "\n",
        "**Team Members:**\n",
        "> Tanmay Vijay (Rajasthan Technical University, Kota)<br>\n",
        "> Ayan Chawla (ayan cllg dal do apna)<br>\n",
        "> Balan Dhanka (balan  cllg dal do apna)<br>\n",
        "\n",
        "\n",
        "\n"
      ]
    },
    {
      "cell_type": "markdown",
      "metadata": {
        "id": "JTgnsiww9fpj",
        "colab_type": "text"
      },
      "source": [
        "# **Data Collection**\n",
        "\n",
        "## Data Collection was one of the lengthy and major tasks to perform. \n",
        "Data was collected using ***GetOldTweets3*** API and was stored in multiple files state-wise and month-wise. Three keywords(corona, COVID, COVID-19) were searched for colecting tweets shared among diferent states. For instance a file named ***Assam_01_tweets.csv*** contains the tweets shared in Assam during January. <br>\n",
        "\n",
        "Months <br>\n",
        "01 = January, 2020 <br>\n",
        "02 = February, 2020 <br> \n",
        "03 = March, 2020 <br>\n",
        "04 = April, 2020 <br>\n",
        "05 = May, 2020 <br>\n",
        "11 = November, 2019 <br>\n",
        "12 = December, 2019 <br>\n",
        "\n",
        "Comment cells and functions\n"
      ]
    },
    {
      "cell_type": "code",
      "metadata": {
        "id": "PlVM8SyB883K",
        "colab_type": "code",
        "colab": {}
      },
      "source": [
        "# Installing required libraries\n",
        "\n",
        "!pip install GetOldTweets3"
      ],
      "execution_count": 0,
      "outputs": []
    },
    {
      "cell_type": "code",
      "metadata": {
        "id": "gIOM17x--JRr",
        "colab_type": "code",
        "colab": {}
      },
      "source": [
        "# Imports\n",
        "\n",
        "import time # To use sleep function\n",
        "import GetOldTweets3 as got # API library to get tweets data\n",
        "import pandas as pd # To create dataframes and save CSVs"
      ],
      "execution_count": 0,
      "outputs": []
    },
    {
      "cell_type": "code",
      "metadata": {
        "id": "iI-xija1-JO5",
        "colab_type": "code",
        "colab": {}
      },
      "source": [
        "# Lists of queries to be searched, States and their approximate radius and Date ranges to collect tweets from.\n",
        "\n",
        "# List of various queries in text\n",
        "queries_list = ['corona', 'COVID', 'COVID-19',]\n",
        "\n",
        "# List of all States in India with their approx. radius.\n",
        "states_list = [\n",
        "  ['Andhra Pradesh',140], ['Arunachal Pradesh',101], ['Assam',98], ['Bihar',111], ['Chhattisgarh',129],\n",
        "  ['Goa',21], ['Gujarat',155], ['Haryana',74], ['Himachal Pradesh',83], ['Jammu & Kashmir',165],\n",
        "  ['Jharkhand',99], ['Karnataka',154], ['Kerala',69], ['Madhya Pradesh',195], ['Maharashtra',195],\n",
        "  ['Manipur',52], ['Meghalaya',53], ['Mizoram',51], ['Nagaland',43], ['Odisha',138],\n",
        "  ['Punjab',79], ['Rajasthan',205], ['Sikkim',30], ['Tamil Nadu',127], ['Telangana',117],\n",
        "  ['Tripura',36], ['Uttarakhand',81],  ['Uttar Pradesh',173], ['West Bengal',104]\n",
        "]\n",
        "\n",
        "# List of Date ranges to scrap data within\n",
        "dates_list = [\n",
        "  (\"2019-11-01\", \"2019-11-30\"), # Nov, 2019\n",
        "  (\"2019-12-01\", \"2019-12-31\"), # Dec, 2019\n",
        "  (\"2020-01-01\", \"2020-01-31\"), # Jan, 2020\n",
        "  (\"2020-02-01\", \"2020-02-29\"), # Feb, 2020\n",
        "  (\"2020-03-01\", \"2020-03-31\"), # Mar, 2020\n",
        "  (\"2020-04-01\", \"2020-04-30\"), # Apr, 2020\n",
        "  (\"2020-05-01\", \"2020-05-30\"), # May, 2020\n",
        "]"
      ],
      "execution_count": 0,
      "outputs": []
    },
    {
      "cell_type": "code",
      "metadata": {
        "id": "d45WstzW-JMX",
        "colab_type": "code",
        "outputId": "bb000d77-e1c5-4a8e-80ce-9463b6ca721e",
        "colab": {
          "base_uri": "https://localhost:8080/",
          "height": 72
        }
      },
      "source": [
        "# Using GetOldTweets3 to collect all tweets data\n",
        "# Queries created using above mentioned queries_list, states_list, dates_list\n",
        "\n",
        "for state, within in states_list: # Loop over states\n",
        "  for since_date, until_date in dates_list: # Loop over Date Ranges\n",
        "    text_tweets = [] # Initialize empty list for each month\n",
        "\n",
        "    i = 0\n",
        "    while i < len(queries_list): # Loop over Query text\n",
        "      query_text = queries_list[i]\n",
        "      \n",
        "      # Creating Query Object\n",
        "      tweetCriteria = got.manager.TweetCriteria().setQuerySearch(query_text).setMaxTweets(1000).setNear(state).setSince(since_date).setUntil(until_date).setLang(\"en\").setWithin(f\"{within}mi\")\n",
        "      \n",
        "      # Getting Tweets from API\n",
        "      try:\n",
        "        tweets = got.manager.TweetManager.getTweets(tweetCriteria)\n",
        "      except: # In case of API exceptions\n",
        "        print(\"Error at\", i)\n",
        "        time.sleep(10) # To account for API call limits\n",
        "        continue\n",
        "\n",
        "      text_tweets.extend( [tweet.text for tweet in tweets] )\n",
        "      i += 1\n",
        "      \n",
        "    # Creating a DataFrame Object from Collected Tweets\n",
        "    df = pd.DataFrame({\"Tweets\": text_tweets}, columns=['Tweets',]) \n",
        "    df = df.drop_duplicates().reset_index(drop=True) # Removing Duplicate Data points if any\n",
        "\n",
        "    df.to_csv(f\"{state[:-7]}_{since_date[5:7]}_tweets.csv\", index=False) # Saving data as a CSV\n",
        "\n",
        "  print(state, end=\", \") # Print State that is successfully completed\n",
        "print(\"\\nDone\") # Success"
      ],
      "execution_count": 0,
      "outputs": [
        {
          "output_type": "stream",
          "text": [
            "Andhra Pradesh, Arunachal Pradesh, Assam, Bihar, Chhattisgarh, Goa, Gujarat, Haryana, Himachal Pradesh, Jammu & Kashmir, Jharkhand, Karnataka, Kerala, Madhya Pradesh, Maharashtra, Manipur, Meghalaya, Mizoram, Nagaland, Odisha, Punjab, Rajasthan, Sikkim, Tamil Nadu, Telangana, Tripura, Uttarakhand, Uttar Pradesh, West Bengal, \n",
            "Done\n"
          ],
          "name": "stdout"
        }
      ]
    },
    {
      "cell_type": "markdown",
      "metadata": {
        "id": "F1-7sJNAlVIl",
        "colab_type": "text"
      },
      "source": [
        "These Files were shared in the Github. <br>\n",
        "Next Task is to find the Polarities of each Tweet."
      ]
    },
    {
      "cell_type": "markdown",
      "metadata": {
        "id": "UEHGFJZjASR0",
        "colab_type": "text"
      },
      "source": [
        "# **Finding Polarities**\n",
        "\n",
        "***Polarity*** is a relationship between two opposite characteristics or tendencies, like the polarity of two sides of a debate, or of the superhero and villain in a comic book. Polarity can literally refer to a positive or negative electric charge.<br>\n",
        "In NLP, Polarity reflects the Positive or Negative expression of a Tweet.<br>\n",
        "#########################\n",
        "Example-:(Give from any file)\n",
        "\n",
        "To find the polarities ***TextBlob*** API was used on each tweet and its Polarity was stored in Polarity attribute.<br>\n",
        "Each Tweet must be cleaned before using the API because it can contain Usernames, Hashtags, URLs. For that a function **clean_data** was created and each tweet was passed through it.\n",
        "<br>\n",
        "API returns a value in range [-1,+1] where -1 means Extreme Negative Polarity,  +1 means Extreme Positive Polarity and 0 means neutral. <br>\n",
        "<br>\n",
        "One more attribute is added to make polarity a Categorical Vaiable called ***Sentiments***. <br>If polarity is in range [-1,0) then the Sentiment is *Negative*. <br>\n",
        "If polarity is in range (0,+1] then the Sentiment is *Positive*. <br>\n",
        "If polairty is 0 then Sentiment is *Neutral*.\n",
        "<br>\n",
        "<br>\n",
        "Each value was stored and new CSV files were generated State-wise and Month-wise. <br>\n",
        "\n",
        "For instance-:\n",
        "<br>\n",
        "File named ***Andhra Pradesh_01_polarity.csv*** contains tweets during January month along with the Polarity(Floating Number) and Sentiment(String).\n"
      ]
    },
    {
      "cell_type": "code",
      "metadata": {
        "id": "j9Yc5s9-A0pX",
        "colab_type": "code",
        "colab": {}
      },
      "source": [
        "# Installing required libraries\n",
        "\n",
        "!pip install textblob"
      ],
      "execution_count": 0,
      "outputs": []
    },
    {
      "cell_type": "code",
      "metadata": {
        "id": "VFFKJU1kA3B-",
        "colab_type": "code",
        "colab": {}
      },
      "source": [
        "# Imports\n",
        "\n",
        "from textblob import TextBlob\n",
        "import pandas as pd\n",
        "import re"
      ],
      "execution_count": 0,
      "outputs": []
    },
    {
      "cell_type": "code",
      "metadata": {
        "id": "wUJ6yS4S-JJo",
        "colab_type": "code",
        "colab": {}
      },
      "source": [
        "# Lists\n",
        "\n",
        "# List of Indian States\n",
        "states_list = [\n",
        "  'Andhra Pradesh', 'Arunachal Pradesh', 'Assam', 'Bihar', 'Chhattisgarh',\n",
        "  'Goa', 'Gujarat', 'Haryana', 'Himachal Pradesh', 'Jammu & Kashmir',\n",
        "  'Jharkhand', 'Karnataka', 'Kerala', 'Madhya Pradesh', 'Maharashtra',\n",
        "  'Manipur', 'Meghalaya', 'Mizoram', 'Nagaland', 'Odisha',\n",
        "  'Punjab', 'Rajasthan', 'Sikkim', 'Tamil Nadu', 'Telangana',\n",
        "  'Tripura', 'Uttarakhand', 'Uttar Pradesh', 'West Bengal',\n",
        "]\n",
        "\n",
        "# List of Months for which Polarities have to be found\n",
        "months_list = ['11', '12', '01', '02', '03', '04', '05'] # Nov, 2019 - to - May, 2020"
      ],
      "execution_count": 0,
      "outputs": []
    },
    {
      "cell_type": "code",
      "metadata": {
        "id": "8sZAbOd3-JHV",
        "colab_type": "code",
        "colab": {}
      },
      "source": [
        "# Function to clean the tweets in the dataset\n",
        "def clean_data(string):\n",
        "  \"\"\"\n",
        "  This function removes all user-tags (@username),\n",
        "  special characters (anything not within 0-9, a-z, A-Z, space( ) and tabs(\\t) )\n",
        "  and URL links in the tweets\n",
        "  \"\"\"\n",
        "\n",
        "  return ' '.join(re.sub(\"(@[A-Za-z0-9]+)|([^0-9A-Za-z \\t])|(\\w+:\\/\\/\\S+)\", \" \", string).split())"
      ],
      "execution_count": 0,
      "outputs": []
    },
    {
      "cell_type": "code",
      "metadata": {
        "id": "w_VCyb7j-JE2",
        "colab_type": "code",
        "colab": {}
      },
      "source": [
        "# Code to find Polarities of each dataset file (Statewise and Monthwise)\n",
        "\n",
        "for state in states_list: # To loop over states\n",
        "  for month in months_list: # To loop over Months\n",
        "    file_name = f\"data/{state}_{month}_tweets.csv\" # Input file\n",
        "\n",
        "    # Reading Dataset\n",
        "    try:\n",
        "      tweets = pd.read_csv(file_name)\n",
        "    except:\n",
        "      # In case file is not found\n",
        "      print(state, month) # Print the file details\n",
        "      continue # and skip the file\n",
        "\n",
        "    # Apply cleaning function on all tweets\n",
        "    tweets['Tweets'] = tweets['Tweets'].apply(clean_data)\n",
        "\n",
        "    # Code to find Polarites of individual tweets    \n",
        "    pol = [] # Empty list to store Polarities\n",
        "\n",
        "    for index in tweets.index: # Looping over all tweets\n",
        "      # Finding polarity\n",
        "      polarity = TextBlob(tweets['Tweets'][index]).sentiment.polarity\n",
        "      # Adding polarity to list of polarities\n",
        "      pol.append(polarity)\n",
        "    \n",
        "    tweets['Polarity'] = pol # Creating Polarity column in the dataset\n",
        "\n",
        "\n",
        "    # Code to Categorize polarities found for each tweet\n",
        "    pol=[] # Empty list to store Categorical Polarities\n",
        "\n",
        "    for index in tweets.index: # Looping over all tweets\n",
        "      if tweets['Polarity'][index] > 0:   # Positive case\n",
        "        pol.append(\"Positive\")\n",
        "      elif tweets[\"Polarity\"][index] < 0: # Negetive Case\n",
        "        pol.append(\"Negative\")\n",
        "      else:                               # Neutral Case\n",
        "        pol.append(\"Neutral\")\n",
        "\n",
        "    tweets['Sentiments'] = pol # Creating Sentiments column in the dataset\n",
        "\n",
        "    # Saving the dataset statewise-monthwise\n",
        "    tweets.to_csv(\"output/\" + file_name[5:-10] + \"polarity.csv\", index=False)"
      ],
      "execution_count": 0,
      "outputs": []
    },
    {
      "cell_type": "markdown",
      "metadata": {
        "id": "dL0diEByBnNB",
        "colab_type": "text"
      },
      "source": [
        "## **Combining Data**\n",
        "\n",
        "creating statewise lists\n",
        "\n",
        "with polarity\n",
        "\n",
        "creating overall combined dataset"
      ]
    },
    {
      "cell_type": "code",
      "metadata": {
        "id": "4W3JGi-fBhs_",
        "colab_type": "code",
        "colab": {}
      },
      "source": [
        "# Imports\n",
        "import pandas as pd"
      ],
      "execution_count": 0,
      "outputs": []
    },
    {
      "cell_type": "code",
      "metadata": {
        "id": "xBy33bq5Bhpy",
        "colab_type": "code",
        "colab": {}
      },
      "source": [
        "# List of all Indian States\n",
        "states_list = [\n",
        "  'Andhra Pradesh', 'Arunachal Pradesh', 'Assam', 'Bihar', 'Chhattisgarh',\n",
        "  'Goa', 'Gujarat', 'Haryana', 'Himachal Pradesh', 'Jammu & Kashmir',\n",
        "  'Jharkhand', 'Karnataka', 'Kerala', 'Madhya Pradesh', 'Maharashtra',\n",
        "  'Manipur', 'Meghalaya', 'Mizoram', 'Nagaland', 'Odisha',\n",
        "  'Punjab', 'Rajasthan', 'Sikkim', 'Tamil Nadu', 'Telangana',\n",
        "  'Tripura', 'Uttarakhand', 'Uttar Pradesh', 'West Bengal',\n",
        "]\n",
        "\n",
        "# List of months to loop over (except 11; 11 is handled manually for initializing the 'big_df')\n",
        "months_list = ['12', '01', '02', '03', '04', '05']"
      ],
      "execution_count": 0,
      "outputs": []
    },
    {
      "cell_type": "markdown",
      "metadata": {
        "id": "8wcFHeZLB-S1",
        "colab_type": "text"
      },
      "source": [
        "### ***Combining Data: Statewise***\n",
        "\n",
        "\n",
        "explain"
      ]
    },
    {
      "cell_type": "code",
      "metadata": {
        "id": "NysGtr6kBhnU",
        "colab_type": "code",
        "colab": {}
      },
      "source": [
        "# Code to create Statewise Datasets with Polarity and Sentiments column\n",
        "for state in states_list: # Looping over all states\n",
        "  big_df = pd.read_csv(f\"{state}_11_polarity.csv\") # Reading Nov, 2019 (11) file for each state\n",
        "  big_df['Month'] = ['11',]*big_df.shape[0] # Creating Month column in the dataset\n",
        "\n",
        "  for month in months_list: # Looping over all months\n",
        "    file_name = f\"{state}_{month}_polarity.csv\" # File name\n",
        "\n",
        "    df = pd.read_csv(file_name) # Reading dataset file for each month for each state\n",
        "    df['Month'] = [month]*df.shape[0] # Creating Month column in the dataset\n",
        "\n",
        "    big_df = pd.concat([big_df, df], ignore_index=True) # Concatenating both data frames\n",
        "  \n",
        "  big_df.to_csv(f\"{state}_combined.csv\", index=False) # Saving the combined file for all states"
      ],
      "execution_count": 0,
      "outputs": []
    },
    {
      "cell_type": "markdown",
      "metadata": {
        "id": "WmYFPemtCGYG",
        "colab_type": "text"
      },
      "source": [
        "### ***Combining Data: Complete***\n",
        "\n",
        "\n",
        "explain"
      ]
    },
    {
      "cell_type": "code",
      "metadata": {
        "id": "n4LV7O2ABhke",
        "colab_type": "code",
        "colab": {}
      },
      "source": [
        "# Code to Combine entire datset into a single file\n",
        "big_df = pd.read_csv(f\"Andhra Pradesh_combined.csv\") # Reading first file manually\n",
        "big_df['State'] = ['Andhra Pradesh',]*big_df.shape[0] # Creating a State column\n",
        "\n",
        "for state in states_list: # Looping over all states\n",
        "  file_name = f\"{state}_combined.csv\" # File name\n",
        "\n",
        "  df = pd.read_csv(file_name) # Reading each state file\n",
        "  df['State'] = [state]*df.shape[0] # Creaing a State column\n",
        "\n",
        "  big_df = pd.concat([big_df, df], ignore_index=True) # Concatenating both data frames\n",
        "\n",
        "\n",
        "big_df.to_csv(f\"all_states_combined.csv\", index=False) # Saving the combined dataset"
      ],
      "execution_count": 0,
      "outputs": []
    },
    {
      "cell_type": "markdown",
      "metadata": {
        "id": "kIME6CHCEM_e",
        "colab_type": "text"
      },
      "source": [
        "# **Analysis**\n",
        "\n",
        "explain everytinh in 3-5 paras\n",
        "\n",
        "explain use of sentiment analysis\n",
        "\n",
        "how we approached and all\n",
        "\n",
        "index of types of analysis done\n",
        "\n"
      ]
    },
    {
      "cell_type": "code",
      "metadata": {
        "id": "QAXqX_a1BhiJ",
        "colab_type": "code",
        "colab": {}
      },
      "source": [
        "# Frequency Plot: Statewise - Monthwise\n",
        "\n",
        "import pandas as pd\n",
        "import seaborn as sns\n",
        "\n",
        "# List of Indian States\n",
        "states_list = [\n",
        "  'Andhra Pradesh', 'Arunachal Pradesh', 'Assam', 'Bihar', 'Chhattisgarh',\n",
        "  'Goa', 'Gujarat', 'Haryana', 'Himachal Pradesh', 'Jammu & Kashmir',\n",
        "  'Jharkhand', 'Karnataka', 'Kerala', 'Madhya Pradesh', 'Maharashtra',\n",
        "  'Manipur', 'Meghalaya', 'Mizoram', 'Nagaland', 'Odisha',\n",
        "  'Punjab', 'Rajasthan', 'Sikkim', 'Tamil Nadu', 'Telangana',\n",
        "  'Tripura', 'Uttarakhand', 'Uttar Pradesh', 'West Bengal',\n",
        "]\n",
        "\n",
        "# List of Months for which Polarities have to be found\n",
        "months_list = ['11', '12', '01', '02', '03', '04', '05'] # Nov, 2019 - to - May, 2020"
      ],
      "execution_count": 0,
      "outputs": []
    },
    {
      "cell_type": "code",
      "metadata": {
        "id": "OY8Ug4pggIB6",
        "colab_type": "code",
        "colab": {}
      },
      "source": [
        "df_states = []\n",
        "df_months = []\n",
        "df_positive = []\n",
        "df_negetive = []\n",
        "df_neutral = []"
      ],
      "execution_count": 0,
      "outputs": []
    },
    {
      "cell_type": "code",
      "metadata": {
        "id": "Sl5V628qDdM0",
        "colab_type": "code",
        "colab": {}
      },
      "source": [
        "for state in states_list:\n",
        "  for month in months_list:\n",
        "    file_name = f\"data/Tweets With Polarity/{state}_{month}_polarity.csv\"\n",
        "\n",
        "    try:\n",
        "      df = pd.read_csv(file_name)\n",
        "    except:\n",
        "      print(state, month)\n",
        "      continue\n",
        "\n",
        "    vc = df['Sentiments'].value_counts()\n",
        "    df_states.append(state)\n",
        "    df_months.append(month+\"month\")\n",
        "    try:\n",
        "      p = int(vc['Positive']) / df.shape[0]\n",
        "      df_positive.append(p)\n",
        "    except:\n",
        "      df_positive.append(0)\n",
        "    \n",
        "    try:\n",
        "      n = int(vc['Negative']) / df.shape[0]\n",
        "      df_negetive.append(n)\n",
        "    except:\n",
        "      df_negetive.append(0)\n",
        "\n",
        "    try:\n",
        "      n = int(vc['Neutral']) / df.shape[0]\n",
        "      df_neutral.append(n)\n",
        "    except:\n",
        "      df_neutral.append(0)"
      ],
      "execution_count": 0,
      "outputs": []
    },
    {
      "cell_type": "code",
      "metadata": {
        "id": "z6GfPk7oDdLD",
        "colab_type": "code",
        "colab": {}
      },
      "source": [
        "vc_df = pd.DataFrame({'State':df_states, 'Month': df_months, 'Positive': df_positive, 'Negative': df_negetive, 'Neutral': df_neutral},\n",
        "                      columns=['State', 'Month', 'Positive', 'Negative', 'Neutral'])"
      ],
      "execution_count": 0,
      "outputs": []
    },
    {
      "cell_type": "code",
      "metadata": {
        "id": "VJvQanAjDdH3",
        "colab_type": "code",
        "colab": {}
      },
      "source": [
        ""
      ],
      "execution_count": 0,
      "outputs": []
    },
    {
      "cell_type": "code",
      "metadata": {
        "id": "Yblk01enDdFd",
        "colab_type": "code",
        "colab": {}
      },
      "source": [
        ""
      ],
      "execution_count": 0,
      "outputs": []
    },
    {
      "cell_type": "markdown",
      "metadata": {
        "id": "3-ItSRyzEp36",
        "colab_type": "text"
      },
      "source": [
        "# **Results**\n",
        "\n",
        "## **Conclusiosn**\n",
        "\n",
        "understrandings from analyss\n",
        "\n",
        "how can this affect the use cases selected above"
      ]
    },
    {
      "cell_type": "markdown",
      "metadata": {
        "id": "1aBuoTTSE5yL",
        "colab_type": "text"
      },
      "source": [
        "# **Thanks yous and Citations if any**\n",
        "\n",
        "\n"
      ]
    }
  ]
}